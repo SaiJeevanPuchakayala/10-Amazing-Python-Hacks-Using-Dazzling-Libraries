{
 "cells": [
  {
   "cell_type": "markdown",
   "metadata": {},
   "source": [
    "### 1.  Download Youtube videos"
   ]
  },
  {
   "cell_type": "markdown",
   "metadata": {},
   "source": [
    "#### Here is a cool python library “pytube” which supports youtube video downloading."
   ]
  },
  {
   "cell_type": "markdown",
   "metadata": {},
   "source": [
    "To install this library use:\n",
    "`pip install pytube`"
   ]
  },
  {
   "cell_type": "code",
   "execution_count": null,
   "metadata": {},
   "outputs": [],
   "source": [
    "#Importing the library \n",
    "from pytube import YouTube\n",
    "import time\n",
    "\n",
    "#Asking user to enter the link of video\n",
    "link = input(\"Enter the link of youtube video:  \")\n",
    "\n",
    "#Creating an object and passing link variable\n",
    "yt = YouTube(link)\n",
    "\n",
    "#To get the highest resolution of the video\n",
    "ys = yt.streams.get_highest_resolution()\n",
    "\n",
    "#show the message until downloading\n",
    "print(\"Processing Download...\")\n",
    "\n",
    "#To get the specified resolution of the video\n",
    "ys = yt.streams.filter(res=\"240p\").first().download()\n",
    "\n",
    "time.sleep(10)\n",
    "\n",
    "#show the message when download is completed\n",
    "print(\"Download completed!!\")"
   ]
  },
  {
   "cell_type": "markdown",
   "metadata": {},
   "source": [
    "### 2.  Automating Whatsapp message"
   ]
  },
  {
   "cell_type": "markdown",
   "metadata": {},
   "source": [
    "#### Scheduling our whatsapp messages for a particular time would be the coolest thing. This can be done with python library “pywhatkit”."
   ]
  },
  {
   "cell_type": "markdown",
   "metadata": {},
   "source": [
    "To install the library :\n",
    "`pip install pywhatkit`"
   ]
  },
  {
   "cell_type": "code",
   "execution_count": null,
   "metadata": {},
   "outputs": [],
   "source": [
    "#initially you should be logged in with whatsapp web in your default browser.\n",
    "#Importing the library \n",
    "\n",
    "import pywhatkit\n",
    "#pywhatkit.sendwhatmsg(reciever's number, message, hour(scheduled) in 24 hr format, minute(scheduled) )\n",
    "\n",
    "pywhatkit.sendwhatmsg('+91 0000000000','This is automated message',18,0)\n",
    "#Message will be delivered by sender's number at the scheduled time that is (6:00 pm)"
   ]
  },
  {
   "cell_type": "markdown",
   "metadata": {},
   "source": [
    "### 3.  Google Search with Python "
   ]
  },
  {
   "cell_type": "markdown",
   "metadata": {},
   "source": [
    "#### we can search our queries by just writing 3 lines of code without manually opening the browser and searching our query on it. "
   ]
  },
  {
   "cell_type": "markdown",
   "metadata": {},
   "source": [
    "To install the library :\n",
    "`pip install google`"
   ]
  },
  {
   "cell_type": "code",
   "execution_count": null,
   "metadata": {},
   "outputs": [],
   "source": [
    "#Importing the library \n",
    "from googlesearch import search\n",
    "\n",
    "#write your query\n",
    "query = input(\"Enter your query: \")\n",
    "\n",
    "# displaying 10 results from the search\n",
    "for i in search(query, tld=\"co.in\", num=10, stop=10, pause=2):\n",
    "    print(i)\n",
    "#you will be getting 10 search results(website links) in the output."
   ]
  },
  {
   "cell_type": "markdown",
   "metadata": {},
   "source": [
    "### 4.  Downloading Instagram Posts and profile picture"
   ]
  },
  {
   "cell_type": "markdown",
   "metadata": {},
   "source": [
    "#### Save your instagram posts offline."
   ]
  },
  {
   "cell_type": "markdown",
   "metadata": {},
   "source": [
    "To install the library :\n",
    "`pip install instaloader`"
   ]
  },
  {
   "cell_type": "code",
   "execution_count": null,
   "metadata": {},
   "outputs": [],
   "source": [
    "#Importing the library\n",
    "import instaloader\n",
    "\n",
    "#Creating object\n",
    "d = instaloader.Instaloader()\n",
    "\n",
    "#Specifying the profile name\n",
    "profile_Name = input(\"Enter the instagram Id: \")\n",
    "\n",
    "#Toggle profile_pic_only = True, to download the profile picture\n",
    "d.download_profile(profile_Name, profile_pic_only = False)\n",
    "\n",
    "#you will come across a folder of this profile's name, under which all the posts will get downloaded.\n",
    "# Note: Private accounts need login to download posts from the accounts."
   ]
  },
  {
   "cell_type": "markdown",
   "metadata": {},
   "source": [
    "### 5.  Extracting audio from the video files"
   ]
  },
  {
   "cell_type": "markdown",
   "metadata": {},
   "source": [
    "#### We can extract the audio from the video files through this."
   ]
  },
  {
   "cell_type": "markdown",
   "metadata": {},
   "source": [
    "To install the library :`pip install moviepy`"
   ]
  },
  {
   "cell_type": "code",
   "execution_count": null,
   "metadata": {},
   "outputs": [],
   "source": [
    "#Importing library \n",
    "import moviepy.editor as mp \n",
    "\n",
    "#Specify the mp4 file. (Mention the file path if it is in different directory)\n",
    "clip = mp.VideoFileClip('video.mp4')\n",
    "\n",
    "#Specify the name for mp3 extracted\n",
    "clip.audio.write_audiofile('Audio.mp3')\n",
    "\n",
    "#you will be getting mp3 file. Will be created at the specified location."
   ]
  },
  {
   "cell_type": "markdown",
   "metadata": {},
   "source": [
    "### 6.  QR code generator"
   ]
  },
  {
   "cell_type": "markdown",
   "metadata": {},
   "source": [
    "####  We can create our unique QR code for website or profiles with the python library “qrcode”."
   ]
  },
  {
   "cell_type": "markdown",
   "metadata": {},
   "source": [
    "To install the library :\n",
    "`pip install qrcode`"
   ]
  },
  {
   "cell_type": "code",
   "execution_count": null,
   "metadata": {},
   "outputs": [],
   "source": [
    "#Importing the library\n",
    "import qrcode\n",
    "from PIL import Image\n",
    "\n",
    "#link to the website\n",
    "input_data = input(\"Enter the data to store in QR Code: \")\n",
    "\n",
    "#Creating object\n",
    "#version: defines size of image from integer(1 to 40), box_size = size of each box in pixels, border = thickness of the border.\n",
    "qr = qrcode.QRCode(version=1,box_size=10,border=5)\n",
    "\n",
    "#add_datq :  pass the input text\n",
    "qr.add_data(input_data)\n",
    "\n",
    "#converting into image\n",
    "qr.make(fit=True)\n",
    "\n",
    "#specify the foreground and background color for the img \n",
    "img = qr.make_image(fill='black', back_color='white')\n",
    "\n",
    "#show the image\n",
    "img.show()"
   ]
  },
  {
   "cell_type": "markdown",
   "metadata": {},
   "source": [
    "### 7. URL Shortener."
   ]
  },
  {
   "cell_type": "markdown",
   "metadata": {},
   "source": [
    "#### We can create our own URL shortener with the help of the python library “pyshorteners”. "
   ]
  },
  {
   "cell_type": "markdown",
   "metadata": {},
   "source": [
    "To install the library :`pip install pyshorteners`"
   ]
  },
  {
   "cell_type": "code",
   "execution_count": null,
   "metadata": {},
   "outputs": [],
   "source": [
    "#Importing the library \n",
    "import pyshorteners\n",
    "\n",
    "#creating object\n",
    "s=pyshorteners.Shortener()\n",
    "\n",
    "#Enter the url\n",
    "url = input(\"Enter your url here: \")\n",
    "\n",
    "#print the shortend url\n",
    "print(\"Your Shortend URL is here: \",s.tinyurl.short(url))"
   ]
  },
  {
   "cell_type": "markdown",
   "metadata": {},
   "source": [
    "### 8.  Image to PDF Convertor"
   ]
  },
  {
   "cell_type": "markdown",
   "metadata": {},
   "source": [
    "#### Collect all the images and then convert them into a pdf file."
   ]
  },
  {
   "cell_type": "markdown",
   "metadata": {},
   "source": [
    "To install the library :\n",
    "`pip install img2pdf`"
   ]
  },
  {
   "cell_type": "code",
   "execution_count": null,
   "metadata": {},
   "outputs": [],
   "source": [
    "#Importing the libraries\n",
    "import os\n",
    "import img2pdf\n",
    "\n",
    "#specify the name for pdf file\n",
    "with open(\"converted.pdf\", \"wb\") as f:\n",
    "    #collect all the images in a single folder and specify its location\n",
    "    directory = input(\"Enter the image files directory: \")\n",
    "    f.write(img2pdf.convert([i for i in os.listdir(directory) if i.endswith(\".jpg\")]))"
   ]
  },
  {
   "cell_type": "markdown",
   "metadata": {},
   "source": [
    "### 9.   Language Translator "
   ]
  },
  {
   "cell_type": "markdown",
   "metadata": {},
   "source": [
    "#### We can create our own language translator with the help of the python library “Translator”."
   ]
  },
  {
   "cell_type": "markdown",
   "metadata": {},
   "source": [
    "To install the library :\n",
    "`pip install translate`"
   ]
  },
  {
   "cell_type": "code",
   "execution_count": null,
   "metadata": {},
   "outputs": [],
   "source": [
    "#Importing the library \n",
    "from translate import Translator\n",
    "\n",
    "#Specifying the language \n",
    "translator = Translator(to_lang=\"Hindi\")\n",
    "\n",
    "text = input(\"Enter the text to translate: \")\n",
    "\n",
    "#Typing the message\n",
    "translation = translator.translate(text)\n",
    "\n",
    "#Print the translated message\n",
    "print(\"Translated text: \",translation)"
   ]
  },
  {
   "cell_type": "markdown",
   "metadata": {},
   "source": [
    "### 10. Plagiarism detector "
   ]
  },
  {
   "cell_type": "markdown",
   "metadata": {},
   "source": [
    "#### We can also create our own plagiarism detector with the help of the  python library “difflib”. It can be used to check similarities between two or more files on a device."
   ]
  },
  {
   "cell_type": "markdown",
   "metadata": {},
   "source": [
    "To install the library :\n",
    "`pip install difflib`"
   ]
  },
  {
   "cell_type": "code",
   "execution_count": null,
   "metadata": {},
   "outputs": [],
   "source": [
    "#import the required library\n",
    "from difflib import SequenceMatcher\n",
    "\n",
    "file1_name = input(\"Enter the file name: \") #Enter with files directory name\n",
    "file2_name = input(\"Enter the file name: \")\n",
    "\n",
    "   #Open two text files\n",
    "    with open(file1_name) as file_1, open(file2_name) as file_2: \n",
    "        \n",
    "        #Reading the files in another variables\n",
    "        file1_data = file_1.read() \n",
    "        file2_data = file_2.read() \n",
    "        \n",
    "        #since we have taken two files for detecting plagiarism, we mention two them here\n",
    "        similarity_ratio = SequenceMatcher(None,file1_data,file2_data).ratio() \n",
    "        \n",
    "        #print the plagiarsim ratio\n",
    "        print(\"Similarity Ratio is: \",similarity_ratio) "
   ]
  }
 ],
 "metadata": {
  "kernelspec": {
   "display_name": "Python 3",
   "language": "python",
   "name": "python3"
  },
  "language_info": {
   "codemirror_mode": {
    "name": "ipython",
    "version": 3
   },
   "file_extension": ".py",
   "mimetype": "text/x-python",
   "name": "python",
   "nbconvert_exporter": "python",
   "pygments_lexer": "ipython3",
   "version": "3.8.5"
  }
 },
 "nbformat": 4,
 "nbformat_minor": 4
}
